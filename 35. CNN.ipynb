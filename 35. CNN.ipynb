{
 "cells": [
  {
   "cell_type": "markdown",
   "metadata": {},
   "source": [
    "### CNN\n",
    "- 특징 검출(convolution 필터의 계수를 찾아내는) 부분과 찾은 특징을 가지고 분류를 하는 영역으로 구분\n",
    "- https://excelsior-cjh.tistory.com/79 참고\n",
    "- https://davinci-ai.tistory.com/29 참고\n"
   ]
  },
  {
   "cell_type": "markdown",
   "metadata": {},
   "source": [
    "![](2024-01-30-17-50-06.png)"
   ]
  },
  {
   "cell_type": "markdown",
   "metadata": {},
   "source": [
    "![](2024-01-30-17-54-34.png)"
   ]
  },
  {
   "cell_type": "markdown",
   "metadata": {},
   "source": [
    "### 풀링"
   ]
  },
  {
   "cell_type": "markdown",
   "metadata": {},
   "source": [
    "![](2024-01-30-17-56-56.png), ![](2024-01-30-17-57-33.png)"
   ]
  },
  {
   "cell_type": "markdown",
   "metadata": {},
   "source": [
    "### 패딩(padding)\n",
    "- padding = 'same' 설정"
   ]
  },
  {
   "cell_type": "markdown",
   "metadata": {},
   "source": [
    "![](2024-01-30-18-09-04.png)"
   ]
  },
  {
   "cell_type": "markdown",
   "metadata": {},
   "source": [
    "### Dropout\n",
    "- 융통성 혹은 과적합 방지"
   ]
  },
  {
   "cell_type": "markdown",
   "metadata": {},
   "source": [
    "![](2024-01-30-18-13-49.png), ![](2024-01-30-18-14-08.png), ![](2024-01-30-18-14-25.png)"
   ]
  },
  {
   "cell_type": "code",
   "execution_count": 4,
   "metadata": {},
   "outputs": [],
   "source": [
    "from tensorflow.keras import datasets\n",
    "\n",
    "mnist = datasets.mnist\n",
    "\n",
    "(X_train, y_train), (X_test, y_test) = mnist.load_data()\n",
    "X_train, X_test = X_train / 255.0, X_test / 255.0\n",
    "# 각 픽셀의 255값이 최댓값이므로 0~1 사이의 값으로 조정(일종의 min-max scaler)\n",
    "\n",
    "X_train = X_train.reshape((60000, 28, 28, 1))\n",
    "                            # 채널때문에 3차원(28, 28, 1)으로 정의\n",
    "X_test = X_test.reshape((10000, 28, 28, 1))\n",
    "                            # 채널때문에 3차원(28, 28, 1)으로 정의"
   ]
  },
  {
   "cell_type": "code",
   "execution_count": 5,
   "metadata": {},
   "outputs": [],
   "source": [
    "from tensorflow.keras import layers, models"
   ]
  },
  {
   "cell_type": "markdown",
   "metadata": {},
   "source": [
    "### 모델"
   ]
  },
  {
   "cell_type": "code",
   "execution_count": 6,
   "metadata": {},
   "outputs": [
    {
     "name": "stdout",
     "output_type": "stream",
     "text": [
      "Model: \"sequential\"\n",
      "_________________________________________________________________\n",
      " Layer (type)                Output Shape              Param #   \n",
      "=================================================================\n",
      " conv2d (Conv2D)             (None, 28, 28, 32)        832       \n",
      "                                                                 \n",
      " max_pooling2d (MaxPooling2  (None, 14, 14, 32)        0         \n",
      " D)                                                              \n",
      "                                                                 \n",
      " conv2d_1 (Conv2D)           (None, 14, 14, 64)        8256      \n",
      "                                                                 \n",
      " max_pooling2d_1 (MaxPoolin  (None, 7, 7, 64)          0         \n",
      " g2D)                                                            \n",
      "                                                                 \n",
      " dropout (Dropout)           (None, 7, 7, 64)          0         \n",
      "                                                                 \n",
      " flatten (Flatten)           (None, 3136)              0         \n",
      "                                                                 \n",
      " dense (Dense)               (None, 1000)              3137000   \n",
      "                                                                 \n",
      " dense_1 (Dense)             (None, 10)                10010     \n",
      "                                                                 \n",
      "=================================================================\n",
      "Total params: 3156098 (12.04 MB)\n",
      "Trainable params: 3156098 (12.04 MB)\n",
      "Non-trainable params: 0 (0.00 Byte)\n",
      "_________________________________________________________________\n"
     ]
    }
   ],
   "source": [
    "model = models.Sequential([\n",
    "    layers.Conv2D(32, kernel_size = (5, 5), strides= (1, 1),\n",
    "                  # 32: 32개의 채널을 통해 32개의 특징을 찾도록 하고\n",
    "                  # kernel_size = (5, 5) : 필터(=커널)는 5x5 크기로 잡고, \n",
    "                  # strides= (1, 1) : 설정된 필터를 1칸씩 띄어서 이동시키겠다\n",
    "                  padding = 'same', activation = 'relu', input_shape = (28, 28, 1)),\n",
    "                  # padding = 'same' : zero padding\n",
    "                  # activation = 'relu' : activation 함수는 relu 사용\n",
    "                  # input_shape = (28, 28, 1) : 채널이 3차원(28, 28, 32)이기 때문에 input_shape도 3차원으로 설정\n",
    "    layers.MaxPooling2D(pool_size = (2, 2), strides = (2, 2)),\n",
    "                    # pool_size = (2, 2) : 풀링 사이즈는 2x2 크기로 설정하고 \n",
    "                    # strides = (2, 2) : 풀링을 2칸씩 띄어서 이동시키겠다\n",
    "    layers.Conv2D(64, (2, 2), activation = 'relu', padding = 'same'),\n",
    "    layers.MaxPooling2D(pool_size = (2, 2)),\n",
    "    layers.Dropout(0.25),\n",
    "    layers.Flatten(),\n",
    "    # Flatten() : CNN에서 컨볼루션 레이어와 풀링 레이어를 반복적으로 거치면 주요 특징만 추출됩니다. \n",
    "    # 추출된 주요 특징은 2차원 데이터로 이루어져 있지만, Dense와 같이 분류를 위한 학습 레이어에서는 1차원 데이터로 바꾸어서 학습이 되어야 합니다.\n",
    "    # 2차원 데이터를 1차원 데이터로 바꾸는 역할의 레이어입니다.\n",
    "    layers.Dense(1000, activation = 'relu'),\n",
    "    layers.Dense(10, activation = 'softmax')\n",
    "])\n",
    "\n",
    "model.summary()"
   ]
  },
  {
   "cell_type": "markdown",
   "metadata": {},
   "source": [
    "![](2024-01-30-17-35-10.png)"
   ]
  },
  {
   "cell_type": "markdown",
   "metadata": {},
   "source": [
    "### 학습"
   ]
  },
  {
   "cell_type": "code",
   "execution_count": 7,
   "metadata": {},
   "outputs": [
    {
     "name": "stdout",
     "output_type": "stream",
     "text": [
      "Epoch 1/5\n",
      "1875/1875 [==============================] - 53s 28ms/step - loss: 0.1129 - accuracy: 0.9646 - val_loss: 0.0560 - val_accuracy: 0.9810\n",
      "Epoch 2/5\n",
      "1875/1875 [==============================] - 73s 39ms/step - loss: 0.0459 - accuracy: 0.9851 - val_loss: 0.0447 - val_accuracy: 0.9852\n",
      "Epoch 3/5\n",
      "1875/1875 [==============================] - 131s 70ms/step - loss: 0.0327 - accuracy: 0.9897 - val_loss: 0.0444 - val_accuracy: 0.9862\n",
      "Epoch 4/5\n",
      "1875/1875 [==============================] - 101s 54ms/step - loss: 0.0253 - accuracy: 0.9919 - val_loss: 0.0374 - val_accuracy: 0.9882\n",
      "Epoch 5/5\n",
      "1875/1875 [==============================] - 100s 53ms/step - loss: 0.0203 - accuracy: 0.9934 - val_loss: 0.0259 - val_accuracy: 0.9920\n",
      "Fit time : 458.3934578895569\n"
     ]
    }
   ],
   "source": [
    "import time\n",
    "\n",
    "model.compile(optimizer='adam',\n",
    "              loss = 'sparse_categorical_crossentropy',\n",
    "            # one-hot-encoding을 해줘야되지만 loss함수를 sparse_categorical_crossentropy로 설정하면 같은 효과\n",
    "              metrics = 'accuracy')\n",
    "\n",
    "start_time = time.time()\n",
    "hist = model.fit(X_train, y_train, epochs = 5, verbose = 1,\n",
    "                 validation_data = (X_test, y_test))\n",
    "                # accuracy를 알아야되므로 validation_data를 설정해 줘야하며 데이터가 오염되지는 않는다\n",
    "print('Fit time :', time.time() - start_time)\n"
   ]
  },
  {
   "cell_type": "markdown",
   "metadata": {},
   "source": [
    "### acc와 loss"
   ]
  },
  {
   "cell_type": "code",
   "execution_count": 8,
   "metadata": {},
   "outputs": [
    {
     "data": {
      "image/png": "[encoded data removed]",
      "text/plain": [
       "<Figure size 1000x600 with 1 Axes>"
      ]
     },
     "metadata": {},
     "output_type": "display_data"
    }
   ],
   "source": [
    "import matplotlib.pyplot as plt\n",
    "\n",
    "plot_target = ['loss', 'val_loss', 'accuracy', 'val_accuracy']\n",
    "\n",
    "plt.figure(figsize=(10, 6))\n",
    "\n",
    "for each in plot_target:\n",
    "    plt.plot(hist.history[each], label = each)\n",
    "\n",
    "plt.legend()\n",
    "plt.grid()\n",
    "plt.show()"
   ]
  },
  {
   "cell_type": "code",
   "execution_count": 9,
   "metadata": {},
   "outputs": [
    {
     "name": "stdout",
     "output_type": "stream",
     "text": [
      "313/313 [==============================] - 2s 6ms/step - loss: 0.0259 - accuracy: 0.9920\n",
      "Test loss : 0.025850525125861168\n",
      "Test accuracy : 0.9919999837875366\n"
     ]
    }
   ],
   "source": [
    "score = model.evaluate(X_test, y_test)\n",
    "print('Test loss :', score[0])\n",
    "print('Test accuracy :', score[1])"
   ]
  },
  {
   "cell_type": "markdown",
   "metadata": {},
   "source": [
    "### 틀린데이터 확인 및 시각화"
   ]
  },
  {
   "cell_type": "code",
   "execution_count": 10,
   "metadata": {},
   "outputs": [
    {
     "name": "stdout",
     "output_type": "stream",
     "text": [
      "313/313 [==============================] - 2s 6ms/step\n"
     ]
    },
    {
     "data": {
      "text/plain": [
       "array([7, 2, 1, 0, 4, 1, 4, 9, 5, 9], dtype=int64)"
      ]
     },
     "execution_count": 10,
     "metadata": {},
     "output_type": "execute_result"
    }
   ],
   "source": [
    "import numpy as np\n",
    "\n",
    "predicted_result = model.predict(X_test)\n",
    "predicted_labels = np.argmax(predicted_result, axis = 1)\n",
    "predicted_labels[:10]"
   ]
  },
  {
   "cell_type": "code",
   "execution_count": 11,
   "metadata": {},
   "outputs": [
    {
     "data": {
      "text/plain": [
       "array([7, 2, 1, 0, 4, 1, 4, 9, 5, 9], dtype=uint8)"
      ]
     },
     "execution_count": 11,
     "metadata": {},
     "output_type": "execute_result"
    }
   ],
   "source": [
    "y_test[:10]"
   ]
  },
  {
   "cell_type": "code",
   "execution_count": 12,
   "metadata": {},
   "outputs": [
    {
     "data": {
      "text/plain": [
       "80"
      ]
     },
     "execution_count": 12,
     "metadata": {},
     "output_type": "execute_result"
    }
   ],
   "source": [
    "worng_result = []\n",
    "\n",
    "for n in range(0, len(y_test)):\n",
    "    if predicted_labels[n] != y_test[n]:\n",
    "        worng_result.append(n)\n",
    "\n",
    "len(worng_result)"
   ]
  },
  {
   "cell_type": "code",
   "execution_count": 13,
   "metadata": {},
   "outputs": [
    {
     "data": {
      "text/plain": [
       "[9024,\n",
       " 4176,\n",
       " 1878,\n",
       " 8408,\n",
       " 4571,\n",
       " 4360,\n",
       " 8408,\n",
       " 1709,\n",
       " 8408,\n",
       " 659,\n",
       " 1226,\n",
       " 4807,\n",
       " 4360,\n",
       " 2896,\n",
       " 9642,\n",
       " 2574]"
      ]
     },
     "execution_count": 13,
     "metadata": {},
     "output_type": "execute_result"
    }
   ],
   "source": [
    "import random\n",
    "\n",
    "samples = random.choices(population=worng_result, k=16)\n",
    "samples"
   ]
  },
  {
   "cell_type": "code",
   "execution_count": 15,
   "metadata": {},
   "outputs": [
    {
     "data": {
      "image/png": "[encoded data removed]",
      "text/plain": [
       "<Figure size 1400x1200 with 16 Axes>"
      ]
     },
     "metadata": {},
     "output_type": "display_data"
    }
   ],
   "source": [
    "plt.figure(figsize=(14, 12))\n",
    "\n",
    "for idx, n in enumerate(samples):\n",
    "    plt.subplot(4, 4, idx+1)\n",
    "    plt.imshow(X_test[n].reshape(28, 28), cmap='Greys', interpolation='nearest')\n",
    "    plt.title('Lable :' + str(y_test[n]) + ', ' + 'Predict :' + str(predicted_labels[n]))\n",
    "    plt.axis('off')\n",
    "\n",
    "plt.show()"
   ]
  },
  {
   "cell_type": "markdown",
   "metadata": {},
   "source": [
    "### 모델 저장"
   ]
  },
  {
   "cell_type": "code",
   "execution_count": 16,
   "metadata": {},
   "outputs": [
    {
     "name": "stderr",
     "output_type": "stream",
     "text": [
      "c:\\Users\\user\\miniconda3\\envs\\ds_study\\lib\\site-packages\\keras\\src\\engine\\training.py:3000: UserWarning: You are saving your model as an HDF5 file via `model.save()`. This file format is considered legacy. We recommend using instead the native Keras format, e.g. `model.save('my_model.keras')`.\n",
      "  saving_api.save_model(\n"
     ]
    }
   ],
   "source": [
    "model.save('MNIST_CNN_model.h5')"
   ]
  },
  {
   "cell_type": "code",
   "execution_count": null,
   "metadata": {},
   "outputs": [],
   "source": []
  },
  {
   "cell_type": "code",
   "execution_count": null,
   "metadata": {},
   "outputs": [],
   "source": []
  },
  {
   "cell_type": "code",
   "execution_count": null,
   "metadata": {},
   "outputs": [],
   "source": []
  }
 ],
 "metadata": {
  "kernelspec": {
   "display_name": "ds_study",
   "language": "python",
   "name": "python3"
  },
  "language_info": {
   "codemirror_mode": {
    "name": "ipython",
    "version": 3
   },
   "file_extension": ".py",
   "mimetype": "text/x-python",
   "name": "python",
   "nbconvert_exporter": "python",
   "pygments_lexer": "ipython3",
   "version": "3.8.18"
  }
 },
 "nbformat": 4,
 "nbformat_minor": 2
}
